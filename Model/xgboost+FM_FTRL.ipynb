{
 "cells": [
  {
   "cell_type": "code",
   "execution_count": 1,
   "metadata": {},
   "outputs": [],
   "source": [
    "import numpy as np\n",
    "import pandas as pd\n",
    "from wordbatch.models import FM_FTRL\n",
    "from scipy.sparse import csr_matrix\n",
    "from sklearn.metrics import roc_auc_score\n",
    "from sklearn.metrics import log_loss\n",
    "from scipy.sparse import hstack\n",
    "from scipy.sparse import vstack\n",
    "import utils\n",
    "import gc\n",
    "from sklearn.preprocessing import StandardScaler\n",
    "from sklearn.linear_model import LogisticRegression"
   ]
  },
  {
   "cell_type": "markdown",
   "metadata": {},
   "source": [
    "## 验证"
   ]
  },
  {
   "cell_type": "code",
   "execution_count": 2,
   "metadata": {},
   "outputs": [],
   "source": [
    "onehot_train_non24 = utils.load_sparse_csr('onehot_train_non24.npz')\n",
    "onehot_val_non24 = utils.load_sparse_csr('onehot_val_non24.npz')"
   ]
  },
  {
   "cell_type": "code",
   "execution_count": 3,
   "metadata": {},
   "outputs": [],
   "source": [
    "xgboost_train_non24 = utils.load_sparse_csr('xgboost_onehot_train_non24.npz')\n",
    "xgboost_val_non24 = utils.load_sparse_csr('xgboost_onehot_val_non24.npz')"
   ]
  },
  {
   "cell_type": "code",
   "execution_count": 4,
   "metadata": {},
   "outputs": [],
   "source": [
    "PATH= '../DataSet/IJCAI-18 Alimama Sponsored Search Conversion Rate(CVR) Prediction Contest/'\n",
    "df_train = pd.read_csv(PATH + \"valTrain0403.csv\")"
   ]
  },
  {
   "cell_type": "code",
   "execution_count": 5,
   "metadata": {},
   "outputs": [],
   "source": [
    "cat_features = ['user_gender_id',\n",
    "               'user_occupation_id',\n",
    "               'context_id',\n",
    "               'context_page_id',\n",
    "               'item_category_list',\n",
    "               'hour']"
   ]
  },
  {
   "cell_type": "code",
   "execution_count": 6,
   "metadata": {},
   "outputs": [],
   "source": [
    "features= [ feature for feature in df_train.head(0) if feature not in ['instance_id','item_id','item_category_list','item_property_list',\\\n",
    "                                                         'item_brand_id','item_city_id','user_id',\\\n",
    "                                                         'context_id','context_timestamp','predict_category_property','shop_id',\\\n",
    "                                                         'time','day','index_x','index_y','item_category_list_isPreTrue',\\\n",
    "                                                         'item_brand_id_PurchaseRate','item_city_id_PurchaseRate','hour_PurchaseRate',\\\n",
    "                                                         'is_trade',\\\n",
    "                                                         'user_gender_id_user_id_cnt','user_gender_id_user_id_prob','user_age_level_user_id_cnt','user_age_level_user_id_prob','user_occupation_id_user_id_cnt','user_occupation_id_user_id_prob',\\\n",
    "                                                         'item_property_list_shop_id_cnt','item_property_list_shop_id_prob','item_property_list_shop_review_num_level_cnt','item_property_list_shop_review_num_level_prob','item_property_list_shop_star_level_cnt','item_property_list_shop_star_level_prob',\\\n",
    "                                                         'item_brand_id_item_id_cnt','item_brand_id_item_id_prob','item_city_id_item_id_cnt','item_city_id_item_id_prob','item_price_level_item_id_cnt','item_price_level_item_id_prob','item_sales_level_item_id_cnt','item_sales_level_item_id_prob',\\\n",
    "                                                         'item_collected_level_item_id_cnt','item_collected_level_item_id_prob','item_pv_level_item_id_cnt','item_pv_level_item_id_prob',\\\n",
    "                                                         'item_id_shop_id_cnt','item_id_shop_id_prob','item_id_shop_review_num_level_cnt','item_id_shop_review_num_level_prob','item_id_shop_star_level_cnt','item_id_shop_star_level_prob',\\\n",
    "                                                         'item_id_user_id_cnt','item_id_user_id_prob']\\\n",
    "                                        and not feature.endswith('0') and not feature.endswith('var')\n",
    "                                        and feature not in cat_features]\n",
    "target = 'is_trade'"
   ]
  },
  {
   "cell_type": "code",
   "execution_count": 7,
   "metadata": {},
   "outputs": [],
   "source": [
    "X_train = df_train.loc[df_train.day < 24]  # 18,19,20,21,22,23,24\n",
    "X_val = df_train.loc[df_train.day == 24]  # 暂时先使用第24天作为验证集"
   ]
  },
  {
   "cell_type": "code",
   "execution_count": 8,
   "metadata": {},
   "outputs": [],
   "source": [
    "origin_train = X_train[features].values\n",
    "origin_val = X_val[features].values\n",
    "train_label = X_train[target].values.ravel()\n",
    "val_label = X_val[target].values.ravel()"
   ]
  },
  {
   "cell_type": "code",
   "execution_count": 9,
   "metadata": {},
   "outputs": [
    {
     "data": {
      "text/plain": [
       "84"
      ]
     },
     "execution_count": 9,
     "metadata": {},
     "output_type": "execute_result"
    }
   ],
   "source": [
    "del X_train,X_val,df_train\n",
    "gc.collect()"
   ]
  },
  {
   "cell_type": "code",
   "execution_count": 10,
   "metadata": {},
   "outputs": [],
   "source": [
    "train = hstack([xgboost_train_non24,onehot_train_non24])\n",
    "val = hstack([xgboost_val_non24,onehot_val_non24])"
   ]
  },
  {
   "cell_type": "code",
   "execution_count": 11,
   "metadata": {},
   "outputs": [
    {
     "data": {
      "text/plain": [
       "0"
      ]
     },
     "execution_count": 11,
     "metadata": {},
     "output_type": "execute_result"
    }
   ],
   "source": [
    "del xgboost_train_non24,onehot_train_non24\n",
    "del xgboost_val_non24,onehot_val_non24\n",
    "gc.collect()"
   ]
  },
  {
   "cell_type": "code",
   "execution_count": 12,
   "metadata": {},
   "outputs": [
    {
     "name": "stdout",
     "output_type": "stream",
     "text": [
      "(420629, 13651)\n",
      "(57406, 13651)\n",
      "(420629,)\n",
      "(57406,)\n"
     ]
    }
   ],
   "source": [
    "print(train.shape)\n",
    "print(val.shape)\n",
    "print(train_label.shape)\n",
    "print(val_label.shape)"
   ]
  },
  {
   "cell_type": "markdown",
   "metadata": {},
   "source": [
    "### 合并原始特征"
   ]
  },
  {
   "cell_type": "code",
   "execution_count": 13,
   "metadata": {},
   "outputs": [],
   "source": [
    "scaler = StandardScaler()"
   ]
  },
  {
   "cell_type": "code",
   "execution_count": 14,
   "metadata": {},
   "outputs": [
    {
     "data": {
      "text/plain": [
       "0"
      ]
     },
     "execution_count": 14,
     "metadata": {},
     "output_type": "execute_result"
    }
   ],
   "source": [
    "origin_train = scaler.fit_transform(origin_train)\n",
    "origin_val = scaler.fit_transform(origin_val)\n",
    "gc.collect()"
   ]
  },
  {
   "cell_type": "code",
   "execution_count": 15,
   "metadata": {},
   "outputs": [
    {
     "data": {
      "text/plain": [
       "0"
      ]
     },
     "execution_count": 15,
     "metadata": {},
     "output_type": "execute_result"
    }
   ],
   "source": [
    "train = hstack([train, origin_train])\n",
    "val = hstack([val, origin_val])\n",
    "\n",
    "del origin_train,origin_val\n",
    "gc.collect()"
   ]
  },
  {
   "cell_type": "markdown",
   "metadata": {},
   "source": [
    "### LR"
   ]
  },
  {
   "cell_type": "code",
   "execution_count": null,
   "metadata": {},
   "outputs": [
    {
     "name": "stderr",
     "output_type": "stream",
     "text": [
      "c:\\users\\administrator\\appdata\\local\\programs\\python\\python36\\lib\\site-packages\\sklearn\\linear_model\\logistic.py:1228: UserWarning: 'n_jobs' > 1 does not have any effect when 'solver' is set to 'liblinear'. Got 'n_jobs' = 6.\n",
      "  \" = {}.\".format(self.n_jobs))\n"
     ]
    }
   ],
   "source": [
    "lr = LogisticRegression(n_jobs=6,C=0.00045)\n",
    "lr.fit(train, train_label)"
   ]
  },
  {
   "cell_type": "code",
   "execution_count": null,
   "metadata": {},
   "outputs": [],
   "source": [
    "y_train = lr.predict_proba(train)[:,1]\n",
    "y_val = lr.predict_proba(val)[:,1]"
   ]
  },
  {
   "cell_type": "code",
   "execution_count": null,
   "metadata": {},
   "outputs": [],
   "source": [
    "print(\"train_logloss: \"+ str(log_loss(train_label,y_train)))\n",
    "print(\"val_logloss: \"+ str(log_loss(val_label,y_val)))\n",
    "\n",
    "print(\"train_auc: \"+ str(roc_auc_score(train_label,y_train)))\n",
    "print(\"val_auc: \"+ str(roc_auc_score(val_label,y_val)))"
   ]
  },
  {
   "cell_type": "markdown",
   "metadata": {},
   "source": [
    "### FM_FTRL"
   ]
  },
  {
   "cell_type": "code",
   "execution_count": 255,
   "metadata": {},
   "outputs": [],
   "source": [
    "clf = FM_FTRL(\n",
    "    alpha=0.01,    #w0和w的FTRL超参数alpha\n",
    "    beta=0.01,     #w0和w的FTRL超参数beta\n",
    "    L1=150,        #w0和w的L1正则\n",
    "    L2=1200,          #w0和w的L2正则\n",
    "    D=train.shape[1], \n",
    "    \n",
    "    alpha_fm=0.01, #v的FTRL超参数alpha\n",
    "    L2_fm=10, #v的L2正则\n",
    "    \n",
    "    init_fm=0.01,\n",
    "    D_fm=2, \n",
    "    e_noise=0.0001, \n",
    "    iters=3, \n",
    "    inv_link=\"sigmoid\", \n",
    "    threads=10,\n",
    ")"
   ]
  },
  {
   "cell_type": "code",
   "execution_count": null,
   "metadata": {},
   "outputs": [],
   "source": [
    "clf.fit(train,train_label)"
   ]
  },
  {
   "cell_type": "code",
   "execution_count": 253,
   "metadata": {},
   "outputs": [],
   "source": [
    "y_train = clf.predict(train)\n",
    "y_val = clf.predict(val)"
   ]
  },
  {
   "cell_type": "code",
   "execution_count": 254,
   "metadata": {},
   "outputs": [
    {
     "name": "stdout",
     "output_type": "stream",
     "text": [
      "train_logloss: 0.0835237770446\n",
      "val_logloss: 0.0809400224873\n",
      "train_auc: 0.785569159225\n",
      "val_auc: 0.700480514615\n"
     ]
    }
   ],
   "source": [
    "print(\"train_logloss: \"+ str(log_loss(train_label,y_train)))\n",
    "print(\"val_logloss: \"+ str(log_loss(val_label,y_val)))\n",
    "\n",
    "print(\"train_auc: \"+ str(roc_auc_score(train_label,y_train)))\n",
    "print(\"val_auc: \"+ str(roc_auc_score(val_label,y_val)))"
   ]
  },
  {
   "cell_type": "code",
   "execution_count": null,
   "metadata": {},
   "outputs": [],
   "source": []
  }
 ],
 "metadata": {
  "kernelspec": {
   "display_name": "Python 3",
   "language": "python",
   "name": "python3"
  },
  "language_info": {
   "codemirror_mode": {
    "name": "ipython",
    "version": 3
   },
   "file_extension": ".py",
   "mimetype": "text/x-python",
   "name": "python",
   "nbconvert_exporter": "python",
   "pygments_lexer": "ipython3",
   "version": "3.6.2rc1"
  }
 },
 "nbformat": 4,
 "nbformat_minor": 2
}
