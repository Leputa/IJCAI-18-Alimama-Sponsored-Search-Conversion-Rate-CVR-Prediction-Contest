{
 "cells": [
  {
   "cell_type": "code",
   "execution_count": 1,
   "metadata": {},
   "outputs": [],
   "source": [
    "import pandas as pd\n",
    "import numpy as np\n",
    "import gc\n",
    "\n",
    "import os\n",
    "import sys\n",
    "sys.path.append(\"../\")\n",
    "\n",
    "\n",
    "from sklearn.metrics import log_loss\n",
    "from wordbatch.models import FM_FTRL\n",
    "from sklearn.metrics import roc_curve, auc, roc_auc_score\n",
    "\n",
    "\n",
    "import Tool.utils as utils\n",
    "import Tool.config as config\n",
    "from Feature import one_hot_feature\n",
    "\n",
    "from scipy.sparse import hstack\n",
    "from scipy.sparse import vstack\n",
    "from scipy.sparse import csc_matrix\n",
    "from scipy.sparse import coo_matrix"
   ]
  },
  {
   "cell_type": "code",
   "execution_count": 2,
   "metadata": {},
   "outputs": [],
   "source": [
    "data = pd.read_pickle(config.data_prefix_path + 'data.pkl')"
   ]
  },
  {
   "cell_type": "code",
   "execution_count": 3,
   "metadata": {},
   "outputs": [
    {
     "data": {
      "text/plain": [
       "0"
      ]
     },
     "execution_count": 3,
     "metadata": {},
     "output_type": "execute_result"
    }
   ],
   "source": [
    "train = data[data.is_trade.notnull()]\n",
    "test = data[data.is_trade.isnull()]\n",
    "del data\n",
    "gc.collect()"
   ]
  },
  {
   "cell_type": "markdown",
   "metadata": {},
   "source": [
    "## FM_FTRL线下验证"
   ]
  },
  {
   "cell_type": "code",
   "execution_count": 4,
   "metadata": {},
   "outputs": [
    {
     "data": {
      "text/plain": [
       "0"
      ]
     },
     "execution_count": 4,
     "metadata": {},
     "output_type": "execute_result"
    }
   ],
   "source": [
    "X_train = train[train.day < 24]\n",
    "X_val = train[train.day == 24]\n",
    "\n",
    "del train,test\n",
    "gc.collect()"
   ]
  },
  {
   "cell_type": "code",
   "execution_count": 5,
   "metadata": {},
   "outputs": [
    {
     "name": "stdout",
     "output_type": "stream",
     "text": [
      "获取类别特征one_hot线下验证数据\n",
      "训练集长度: 420627\n",
      "验证集长度：57405\n",
      "获取xgboost特征one_hot线下验证数据\n",
      "训练集长度: 420627\n",
      "测试集长度：57405\n"
     ]
    },
    {
     "data": {
      "text/plain": [
       "31"
      ]
     },
     "execution_count": 5,
     "metadata": {},
     "output_type": "execute_result"
    }
   ],
   "source": [
    "train_X,val_X = one_hot_feature.get_one_hot_data('val')\n",
    "train_Y = X_train['is_trade'].values.ravel()\n",
    "val_Y = X_val['is_trade'].values.ravel()\n",
    "\n",
    "del X_train,X_val\n",
    "gc.collect()"
   ]
  },
  {
   "cell_type": "code",
   "execution_count": 57,
   "metadata": {},
   "outputs": [],
   "source": [
    "clf = FM_FTRL(\n",
    "    alpha=0.005,       #w0和w的FTRL超参数alpha\n",
    "    beta=0.01,        #w0和w的FTRL超参数beta\n",
    "    L1=130,           #w0和w的L1正则\n",
    "    L2=1200,          #w0和w的L2正则\n",
    "    D=train_X.shape[1], \n",
    "    \n",
    "    alpha_fm=0.005,   #v的FTRL超参数alpha\n",
    "    L2_fm=10,         #v的L2正则\n",
    "    \n",
    "    init_fm=0.01,\n",
    "    D_fm=2,  \n",
    "    e_noise=0.0001, \n",
    "    iters=3, \n",
    "    inv_link=\"sigmoid\", \n",
    "    threads=16,\n",
    ")"
   ]
  },
  {
   "cell_type": "code",
   "execution_count": 58,
   "metadata": {},
   "outputs": [],
   "source": [
    "clf.fit(train_X,train_Y)\n",
    "y_train = clf.predict(train_X)\n",
    "y_val = clf.predict(val_X)"
   ]
  },
  {
   "cell_type": "code",
   "execution_count": 59,
   "metadata": {},
   "outputs": [
    {
     "name": "stdout",
     "output_type": "stream",
     "text": [
      "train_logloss: 0.0831814288019\n",
      "val_logloss: 0.0800659975731\n",
      "train_auc: 0.788745386694\n",
      "val_auc: 0.71648677306\n"
     ]
    }
   ],
   "source": [
    "print(\"train_logloss: \"+ str(log_loss(train_Y,y_train)))\n",
    "print(\"val_logloss: \"+ str(log_loss(val_Y,y_val)))\n",
    "\n",
    "print(\"train_auc: \"+ str(roc_auc_score(train_Y,y_train)))\n",
    "print(\"val_auc: \"+ str(roc_auc_score(val_Y,y_val)))"
   ]
  },
  {
   "cell_type": "markdown",
   "metadata": {},
   "source": [
    "## FM_FTRL线上提交"
   ]
  },
  {
   "cell_type": "code",
   "execution_count": 4,
   "metadata": {},
   "outputs": [
    {
     "name": "stdout",
     "output_type": "stream",
     "text": [
      "获取类别特征one_hot线上提交数据\n",
      "训练集长度: 478032\n",
      "测试集长度：42888\n",
      "获取xgboost特征one_hot线上提交数据\n",
      "训练集长度: 478032\n",
      "测试集长度：42888\n"
     ]
    },
    {
     "data": {
      "text/plain": [
       "24"
      ]
     },
     "execution_count": 4,
     "metadata": {},
     "output_type": "execute_result"
    }
   ],
   "source": [
    "train_X,test_X = one_hot_feature.get_one_hot_data('train')\n",
    "train_Y = train['is_trade'].values.ravel()\n",
    "\n",
    "del train\n",
    "gc.collect()"
   ]
  },
  {
   "cell_type": "code",
   "execution_count": 5,
   "metadata": {},
   "outputs": [],
   "source": [
    "clf = FM_FTRL(\n",
    "    alpha=0.005,       #w0和w的FTRL超参数alpha\n",
    "    beta=0.01,        #w0和w的FTRL超参数beta\n",
    "    L1=130,           #w0和w的L1正则\n",
    "    L2=1200,          #w0和w的L2正则\n",
    "    D=train_X.shape[1], \n",
    "    \n",
    "    alpha_fm=0.005,   #v的FTRL超参数alpha\n",
    "    L2_fm=10,         #v的L2正则\n",
    "    \n",
    "    init_fm=0.01,\n",
    "    D_fm=2,  \n",
    "    e_noise=0.0001, \n",
    "    iters=3, \n",
    "    inv_link=\"sigmoid\", \n",
    "    threads=16,\n",
    ")"
   ]
  },
  {
   "cell_type": "code",
   "execution_count": 6,
   "metadata": {},
   "outputs": [],
   "source": [
    "clf.fit(train_X,train_Y)"
   ]
  },
  {
   "cell_type": "code",
   "execution_count": 7,
   "metadata": {},
   "outputs": [],
   "source": [
    "test['predicted_score'] = clf.predict(test_X)"
   ]
  },
  {
   "cell_type": "code",
   "execution_count": 8,
   "metadata": {},
   "outputs": [],
   "source": [
    "test[['instance_id', 'predicted_score']].to_csv(config.data_prefix_path + 'sub0421_xgboost_FM_FTRL.txt',sep=\" \",index=False)"
   ]
  },
  {
   "cell_type": "markdown",
   "metadata": {},
   "source": [
    "## OOF"
   ]
  },
  {
   "cell_type": "code",
   "execution_count": 4,
   "metadata": {},
   "outputs": [
    {
     "name": "stdout",
     "output_type": "stream",
     "text": [
      "获取类别特征one_hot线下验证数据\n",
      "训练集长度: 420627\n",
      "验证集长度：57405\n",
      "获取xgboost特征one_hot线下验证数据\n",
      "训练集长度: 420627\n",
      "测试集长度：57405\n"
     ]
    },
    {
     "data": {
      "text/plain": [
       "24"
      ]
     },
     "execution_count": 4,
     "metadata": {},
     "output_type": "execute_result"
    }
   ],
   "source": [
    "# 读取one_hot特征\n",
    "train_X,val_X = one_hot_feature.get_one_hot_data('val')\n",
    "train_X = coo_matrix.tocsr(vstack([train_X,val_X]))\n",
    "\n",
    "train_Y = train['is_trade'].values.ravel()\n",
    "\n",
    "del val_X,test\n",
    "gc.collect()"
   ]
  },
  {
   "cell_type": "code",
   "execution_count": 5,
   "metadata": {},
   "outputs": [],
   "source": [
    "from sklearn.model_selection import KFold\n",
    "folds=KFold(n_splits=4,random_state=2018,shuffle=True)\n",
    "\n",
    "pred = np.zeros(train_X.shape[0])"
   ]
  },
  {
   "cell_type": "code",
   "execution_count": 6,
   "metadata": {},
   "outputs": [],
   "source": [
    "clf = FM_FTRL(\n",
    "    alpha=0.005,       #w0和w的FTRL超参数alpha\n",
    "    beta=0.01,        #w0和w的FTRL超参数beta\n",
    "    L1=130,           #w0和w的L1正则\n",
    "    L2=1200,          #w0和w的L2正则\n",
    "    D=train_X.shape[1], \n",
    "    \n",
    "    alpha_fm=0.005,   #v的FTRL超参数alpha\n",
    "    L2_fm=10,         #v的L2正则\n",
    "    \n",
    "    init_fm=0.01,\n",
    "    D_fm=2,  \n",
    "    e_noise=0.0001, \n",
    "    iters=3, \n",
    "    inv_link=\"sigmoid\", \n",
    "    threads=16,\n",
    ")"
   ]
  },
  {
   "cell_type": "code",
   "execution_count": 8,
   "metadata": {},
   "outputs": [
    {
     "name": "stdout",
     "output_type": "stream",
     "text": [
      "\t Fold 1 : 0.080835\n",
      "\t Fold 2 : 0.079849\n",
      "\t Fold 3 : 0.077058\n",
      "\t Fold 4 : 0.075606\n"
     ]
    }
   ],
   "source": [
    "for n_fold,(trn_idx,val_idx) in enumerate(folds.split(train_X,train_Y)):\n",
    "    \n",
    "    clf.fit(train_X[trn_idx], train_Y[trn_idx])\n",
    "\n",
    "    pred[val_idx] = clf.predict(train_X[val_idx])\n",
    "    loss = log_loss(train_Y[val_idx],pred[val_idx])\n",
    "    \n",
    "    print(\"\\t Fold %d : %.6f\" % (n_fold+1, loss))\n",
    "    \n",
    "train['is_trade'+'_oof'] = pred"
   ]
  },
  {
   "cell_type": "code",
   "execution_count": 9,
   "metadata": {},
   "outputs": [],
   "source": [
    "# 保存结果,用作stacking\n",
    "train[['instance_id', 'is_trade', 'is_trade'+'_oof']].to_csv(\n",
    "    config.data_prefix_path + 'xgboost_FM_FTRL_oof.txt',sep=\" \",index=False\n",
    "    )"
   ]
  }
 ],
 "metadata": {
  "kernelspec": {
   "display_name": "Python 3",
   "language": "python",
   "name": "python3"
  },
  "language_info": {
   "codemirror_mode": {
    "name": "ipython",
    "version": 3
   },
   "file_extension": ".py",
   "mimetype": "text/x-python",
   "name": "python",
   "nbconvert_exporter": "python",
   "pygments_lexer": "ipython3",
   "version": "3.6.2rc1"
  }
 },
 "nbformat": 4,
 "nbformat_minor": 2
}
