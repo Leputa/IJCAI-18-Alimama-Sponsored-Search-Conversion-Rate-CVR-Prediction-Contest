{
 "cells": [
  {
   "cell_type": "code",
   "execution_count": 1,
   "metadata": {},
   "outputs": [],
   "source": [
    "import pandas as pd\n",
    "import numpy as np\n",
    "import gc\n",
    "\n",
    "import os\n",
    "import sys\n",
    "sys.path.append(\"../\")\n",
    "\n",
    "\n",
    "from sklearn.metrics import log_loss\n",
    "from sklearn.linear_model import LogisticRegression\n",
    "from sklearn.metrics import roc_curve, auc, roc_auc_score\n",
    "from sklearn.preprocessing import MinMaxScaler\n",
    "\n",
    "\n",
    "import Tool.utils as utils\n",
    "import Tool.config as config\n",
    "from Feature import one_hot_feature\n",
    "\n",
    "from scipy.sparse import hstack"
   ]
  },
  {
   "cell_type": "code",
   "execution_count": 2,
   "metadata": {},
   "outputs": [],
   "source": [
    "data = pd.read_pickle(config.data_prefix_path + 'data.pkl')"
   ]
  },
  {
   "cell_type": "code",
   "execution_count": 3,
   "metadata": {},
   "outputs": [],
   "source": [
    "object_features = [\"predict_category_1\",\"predict_category_2\",\"predict_category_0\",\n",
    "                    \"predict_property_0\",\"predict_property_1\",\"predict_property_2\",\n",
    "                    \"property_1\",\"property_0\",\"property_2\",\n",
    "                    \"category_1\",\"category_0\",\"category_2\",\n",
    "                    'category_cross_0', 'category_cross_1', 'category_cross_2',\n",
    "                    'hour_and_category_1',\n",
    "                    'user_gender_id','user_occupation_id',]"
   ]
  },
  {
   "cell_type": "code",
   "execution_count": 4,
   "metadata": {},
   "outputs": [],
   "source": [
    "features = [c for c in data.columns if c not in ['is_trade', 'instance_id','index',\n",
    "                                            'context_id', 'time', 'day','context_timestamp',\n",
    "                                            'property_list','category_list','property_predict_list','category_predict_list',\n",
    "                                            'item_category_list', 'item_property_list', 'predict_category_property',\n",
    "                                            'user_id','item_id','item_brand_id','item_city_id','shop_id',\n",
    "                                            ]\n",
    "            and c not in object_features]\n",
    "target = ['is_trade']"
   ]
  },
  {
   "cell_type": "code",
   "execution_count": 5,
   "metadata": {},
   "outputs": [
    {
     "data": {
      "text/plain": [
       "0"
      ]
     },
     "execution_count": 5,
     "metadata": {},
     "output_type": "execute_result"
    }
   ],
   "source": [
    "train = data[data.is_trade.notnull()]\n",
    "test = data[data.is_trade.isnull()]\n",
    "del data\n",
    "gc.collect()"
   ]
  },
  {
   "cell_type": "markdown",
   "metadata": {},
   "source": [
    "## LR线下验证"
   ]
  },
  {
   "cell_type": "markdown",
   "metadata": {},
   "source": [
    "尝试过在one_hot特征上再加入原始特征，讲道理效果会更好   \n",
    "但是模型跑不出来(非稀疏矩阵LR速度太慢,也有可能是我忘了scaler....)\n",
    "***"
   ]
  },
  {
   "cell_type": "code",
   "execution_count": 6,
   "metadata": {},
   "outputs": [
    {
     "data": {
      "text/plain": [
       "0"
      ]
     },
     "execution_count": 6,
     "metadata": {},
     "output_type": "execute_result"
    }
   ],
   "source": [
    "X_train = train[train.day < 24]\n",
    "X_val = train[train.day == 24]\n",
    "\n",
    "del train,test\n",
    "gc.collect()"
   ]
  },
  {
   "cell_type": "code",
   "execution_count": 7,
   "metadata": {},
   "outputs": [],
   "source": [
    "train_Y = X_train['is_trade'].values.ravel()\n",
    "val_Y = X_val['is_trade'].values.ravel()\n",
    "\n",
    "X_train = np.isnan(X_train[features].values)\n",
    "X_val = np.isnan(X_val[features].values)"
   ]
  },
  {
   "cell_type": "code",
   "execution_count": 8,
   "metadata": {},
   "outputs": [
    {
     "name": "stderr",
     "output_type": "stream",
     "text": [
      "c:\\users\\administrator\\appdata\\local\\programs\\python\\python36\\lib\\site-packages\\sklearn\\utils\\validation.py:475: DataConversionWarning: Data with input dtype bool was converted to float64 by MinMaxScaler.\n",
      "  warnings.warn(msg, DataConversionWarning)\n"
     ]
    }
   ],
   "source": [
    "# Scaler\n",
    "scaler  = MinMaxScaler()\n",
    "X_train = scaler.fit_transform(X_train)\n",
    "X_val = scaler.fit_transform(X_val)"
   ]
  },
  {
   "cell_type": "code",
   "execution_count": 9,
   "metadata": {},
   "outputs": [
    {
     "name": "stdout",
     "output_type": "stream",
     "text": [
      "获取类别特征one_hot线下验证数据\n",
      "训练集长度: 420627\n",
      "验证集长度：57405\n",
      "获取xgboost特征one_hot线下验证数据\n",
      "训练集长度: 420627\n",
      "测试集长度：57405\n",
      "\n",
      "数据拼接\n"
     ]
    },
    {
     "data": {
      "text/plain": [
       "73"
      ]
     },
     "execution_count": 9,
     "metadata": {},
     "output_type": "execute_result"
    }
   ],
   "source": [
    "# 读取one_hot特征\n",
    "train_X,val_X = one_hot_feature.get_one_hot_data('val')\n",
    "\n",
    "# 将one_hot特征和原始特征拼接\n",
    "print(\"\")\n",
    "print(\"数据拼接\")\n",
    "train_X = hstack([train_X,X_train])\n",
    "val_X = hstack([val_X,X_val])\n",
    "\n",
    "del X_train,X_val\n",
    "gc.collect()"
   ]
  },
  {
   "cell_type": "code",
   "execution_count": 16,
   "metadata": {},
   "outputs": [
    {
     "name": "stderr",
     "output_type": "stream",
     "text": [
      "c:\\users\\administrator\\appdata\\local\\programs\\python\\python36\\lib\\site-packages\\sklearn\\linear_model\\logistic.py:1228: UserWarning: 'n_jobs' > 1 does not have any effect when 'solver' is set to 'liblinear'. Got 'n_jobs' = 6.\n",
      "  \" = {}.\".format(self.n_jobs))\n"
     ]
    },
    {
     "name": "stdout",
     "output_type": "stream",
     "text": [
      "0.080240328679\n",
      "0.0799438203862\n",
      "0.717387927204\n"
     ]
    }
   ],
   "source": [
    "lr = LogisticRegression(n_jobs=6,C=0.00045)\n",
    "lr.fit(train_X, train_Y)\n",
    "    \n",
    "y_train_pred = lr.predict_proba(train_X)[:,1]\n",
    "train_log = log_loss(train_Y,y_train_pred)\n",
    "    \n",
    "y_val_pred = lr.predict_proba(val_X)[:,1]\n",
    "val_log = log_loss(val_Y,y_val_pred)\n",
    "    \n",
    "print(train_log)\n",
    "print(val_log)\n",
    "print(roc_auc_score(val_Y,y_val_pred))"
   ]
  },
  {
   "cell_type": "markdown",
   "metadata": {},
   "source": [
    "## LR线上提交"
   ]
  },
  {
   "cell_type": "code",
   "execution_count": 6,
   "metadata": {},
   "outputs": [],
   "source": [
    "X_train = np.isnan(train[features].values)\n",
    "X_test = np.isnan(test[features].values)"
   ]
  },
  {
   "cell_type": "code",
   "execution_count": 7,
   "metadata": {},
   "outputs": [
    {
     "name": "stderr",
     "output_type": "stream",
     "text": [
      "c:\\users\\administrator\\appdata\\local\\programs\\python\\python36\\lib\\site-packages\\sklearn\\utils\\validation.py:475: DataConversionWarning: Data with input dtype bool was converted to float64 by MinMaxScaler.\n",
      "  warnings.warn(msg, DataConversionWarning)\n"
     ]
    }
   ],
   "source": [
    "# Scaler\n",
    "scaler  = MinMaxScaler()\n",
    "X_train = scaler.fit_transform(X_train)\n",
    "X_test = scaler.fit_transform(X_test)"
   ]
  },
  {
   "cell_type": "code",
   "execution_count": 8,
   "metadata": {},
   "outputs": [
    {
     "name": "stdout",
     "output_type": "stream",
     "text": [
      "获取类别特征one_hot线上提交数据\n",
      "训练集长度: 478032\n",
      "测试集长度：42888\n",
      "获取xgboost特征one_hot线上提交数据\n",
      "训练集长度: 478032\n",
      "测试集长度：42888\n",
      "\n",
      "数据拼接\n"
     ]
    },
    {
     "data": {
      "text/plain": [
       "48"
      ]
     },
     "execution_count": 8,
     "metadata": {},
     "output_type": "execute_result"
    }
   ],
   "source": [
    "train_X,test_X = one_hot_feature.get_one_hot_data('train')\n",
    "train_Y = train['is_trade'].values.ravel()\n",
    "\n",
    "print(\"\")\n",
    "print(\"数据拼接\")\n",
    "train_X = hstack([train_X,X_train])\n",
    "test_X = hstack([test_X,X_test])\n",
    "\n",
    "del train,X_train,X_test\n",
    "gc.collect()"
   ]
  },
  {
   "cell_type": "code",
   "execution_count": 10,
   "metadata": {},
   "outputs": [
    {
     "name": "stderr",
     "output_type": "stream",
     "text": [
      "c:\\users\\administrator\\appdata\\local\\programs\\python\\python36\\lib\\site-packages\\sklearn\\linear_model\\logistic.py:1228: UserWarning: 'n_jobs' > 1 does not have any effect when 'solver' is set to 'liblinear'. Got 'n_jobs' = 6.\n",
      "  \" = {}.\".format(self.n_jobs))\n"
     ]
    },
    {
     "data": {
      "text/plain": [
       "LogisticRegression(C=0.00045, class_weight=None, dual=False,\n",
       "          fit_intercept=True, intercept_scaling=1, max_iter=100,\n",
       "          multi_class='ovr', n_jobs=6, penalty='l2', random_state=None,\n",
       "          solver='liblinear', tol=0.0001, verbose=0, warm_start=False)"
      ]
     },
     "execution_count": 10,
     "metadata": {},
     "output_type": "execute_result"
    }
   ],
   "source": [
    "lr = LogisticRegression(n_jobs=6,C=0.00045)\n",
    "lr.fit(train_X, train_Y)"
   ]
  },
  {
   "cell_type": "code",
   "execution_count": 11,
   "metadata": {},
   "outputs": [],
   "source": [
    "test['predicted_score'] = lr.predict_proba(test_X)[:,1]"
   ]
  },
  {
   "cell_type": "code",
   "execution_count": 12,
   "metadata": {},
   "outputs": [],
   "source": [
    "test[['instance_id', 'predicted_score']].to_csv(config.data_prefix_path + 'sub0421_xgboost_LR.txt',sep=\" \",index=False)"
   ]
  }
 ],
 "metadata": {
  "kernelspec": {
   "display_name": "Python 3",
   "language": "python",
   "name": "python3"
  },
  "language_info": {
   "codemirror_mode": {
    "name": "ipython",
    "version": 3
   },
   "file_extension": ".py",
   "mimetype": "text/x-python",
   "name": "python",
   "nbconvert_exporter": "python",
   "pygments_lexer": "ipython3",
   "version": "3.6.2rc1"
  }
 },
 "nbformat": 4,
 "nbformat_minor": 2
}
